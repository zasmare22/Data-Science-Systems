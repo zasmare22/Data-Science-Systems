{
  "nbformat": 4,
  "nbformat_minor": 0,
  "metadata": {
    "colab": {
      "provenance": []
    },
    "kernelspec": {
      "name": "python3",
      "display_name": "Python 3"
    },
    "language_info": {
      "name": "python"
    }
  },
  "cells": [
    {
      "cell_type": "code",
      "execution_count": 1,
      "metadata": {
        "colab": {
          "base_uri": "https://localhost:8080/"
        },
        "id": "n1_JI8Ryw7M3",
        "outputId": "6412bfe4-8776-4f2f-8658-3b5af8c9f031"
      },
      "outputs": [
        {
          "output_type": "stream",
          "name": "stdout",
          "text": [
            "Database created and connected.\n"
          ]
        }
      ],
      "source": [
        "# Miky Asmare, Soliyana Yohannes, Nathan Ressom\n",
        "\n",
        "\n",
        "from sqlite3.dbapi2 import Connection\n",
        "import sqlite3\n",
        "conn = sqlite3.connect(\"superhero_db.sqlite\")\n",
        "cursor = conn.cursor()\n",
        "print(\"Database created and connected.\")\n",
        "\n",
        "\n"
      ]
    },
    {
      "cell_type": "code",
      "source": [
        "#heroes, villains, battles, and sidekicks\n",
        "print(\"Cursor created!\")\n",
        "cursor.execute('''\n",
        "CREATE TABLE IF NOT EXISTS heroes (\n",
        "  HeroID INTEGER PRIMARY KEY AUTOINCREMENT,\n",
        "  Name TEXT NOT NULL,\n",
        "  Power TEXT NOT NULL,\n",
        "  Team TEXT NOT NULL\n",
        ")\n",
        "''')\n",
        "\n",
        "cursor.execute('''\n",
        "CREATE TABLE IF NOT EXISTS villains(\n",
        "  VillainID INTEGER PRIMARY KEY AUTOINCREMENT,\n",
        "  Name TEXT NOT NULL,\n",
        "  EvilPlan TEXT NOT NULL\n",
        ")\n",
        "''')\n",
        "\n",
        "cursor.execute('''\n",
        "CREATE TABLE IF NOT EXISTS battles(\n",
        "  BattleID INTEGER PRIMARY KEY AUTOINCREMENT,\n",
        "  HeroID INTEGER,\n",
        "  VillainID INTEGER,\n",
        "  Outcome TEXT NOT NULL CHECK(Outcome IN ('Hero Win','Villain Wins','Draw')),\n",
        "  FOREIGN KEY (HeroID) REFERENCES heroes(HeroesID),\n",
        "  FOREIGN KEY (VillainID) REFERENCES villains(VillainsID)\n",
        ");\n",
        "''')\n",
        "cursor.execute('''\n",
        "CREATE TABLE IF NOT EXISTS sidekicks (\n",
        "  SidekickID INTEGER PRIMARY KEY AUTOINCREMENT,\n",
        "  HeroID INTEGER,\n",
        "  SidekickName TEXT NOT NULL,\n",
        "  FOREIGN KEY (HeroID) REFERENCES heroes(HeroID)\n",
        ");\n",
        "''')\n",
        "print(\"Tables created successfully.\")"
      ],
      "metadata": {
        "colab": {
          "base_uri": "https://localhost:8080/"
        },
        "id": "8vIW9Y9dxuzF",
        "outputId": "9ad13222-5199-4505-9045-03f962e00713"
      },
      "execution_count": 2,
      "outputs": [
        {
          "output_type": "stream",
          "name": "stdout",
          "text": [
            "Cursor created!\n",
            "Tables created successfully.\n"
          ]
        }
      ]
    },
    {
      "cell_type": "code",
      "source": [
        "# inserting data for heroes, villains, and sidekicks\n",
        "heroes_data = [\n",
        "   (\"Spider-Man\", \"Super Strength\", \"Justice League\"),\n",
        "   (\"Iron Man\", \"Martial Arts\", \"Justice League\"),\n",
        "   (\"Batman\", \"Martial Arts\", \"Justice League\"),\n",
        "   (\"Superman\", \"Super Strength\", \"Justice League\"),\n",
        "   (\"Thor\", \"Thunder God\", \"Avengers\"),\n",
        "   (\"Wonder Woman\", \"Amazonian Strength\", \"Justice League\"),\n",
        "   (\"Black Panther\", \"Enhanced Agility\", \"Justice League\"),\n",
        "   (\"The Flash\", \"Super Speed\", \"Justice League\"),\n",
        "   (\"Hulk\", \"Super Strength\", \"Avengers\"),\n",
        "   (\"Doctor Strange\", \"Mystic Arts\", \"Avengers\")\n",
        "]\n",
        "cursor.executemany(\"INSERT INTO heroes (Name, Power, Team) VALUES (?, ?, ?);\", heroes_data)\n",
        "print(\"Heroes inserted successfully\")\n",
        "\n",
        "villains_data = [\n",
        "    (\"Green Goblin\", \"Terrorize New York\"),\n",
        "    (\"Thanos\", \"Collect all Infinity Stones\"),\n",
        "    (\"Joker\", \"Spread chaos in Gotham\"),\n",
        "    (\"Lex Luthor\", \"Defeat Superman\"),\n",
        "    (\"Loki\", \"Trick humanity into worshipping him\"),\n",
        "    (\"Ultron\", \"AI world domination\"),\n",
        "    (\"Darkseid\", \"Control the universe\"),\n",
        "    (\"Venom\", \"Consume Spider-Man\"),\n",
        "    (\"Magneto\", \"Mutant supremacy\"),\n",
        "    (\"Red Skull\", \"Revive Hydra\")\n",
        "]\n",
        "cursor.executemany(\"INSERT INTO villains (Name, EvilPlan) VALUES (?,?);\", villains_data)\n",
        "print(\"Villains inserted successfully\")\n",
        "conn.commit()\n",
        "\n",
        "sidekicks_data = [\n",
        "    (1, \"Robin\"),\n",
        "    (3, \"Alfred\"),\n",
        "    (5, \"Bucky Barnes\"),\n",
        "    (7, \"War Machine\"),\n",
        "    (9, \"Falcon\")\n",
        "]\n",
        "cursor.executemany(\"INSERT INTO sidekicks (HeroId, SideKickName) VALUES (?,?);\", sidekicks_data)\n",
        "conn.commit()"
      ],
      "metadata": {
        "colab": {
          "base_uri": "https://localhost:8080/"
        },
        "id": "BN04KOG7xzXU",
        "outputId": "c8b3acf0-ed19-4442-b251-b2c04048ff2d"
      },
      "execution_count": 3,
      "outputs": [
        {
          "output_type": "stream",
          "name": "stdout",
          "text": [
            "Heroes inserted successfully\n",
            "Villains inserted successfully\n"
          ]
        }
      ]
    },
    {
      "cell_type": "code",
      "source": [
        "#inserting data from battles\n",
        "battles_data = [\n",
        "    (1, 10, \"Villain Wins\"),\n",
        "    (9, 3, \"Hero Win\"),\n",
        "    (8, 1, \"Draw\"),\n",
        "    (5, 4, \"Villain Wins\"),\n",
        "    (1, 7, \"Hero Win\"),\n",
        "    (2, 8, \"Villain Wins\"),\n",
        "    (9, 8, \"Hero Win\"),\n",
        "    (3, 2, \"Hero Win\"),\n",
        "    (7, 5, \"Hero Win\"),\n",
        "    (3, 1, \"Draw\"),\n",
        "    (1, 8, \"Villain Wins\"),\n",
        "    (2, 1, \"Draw\"),\n",
        "    (8, 9, \"Hero Win\"),\n",
        "    (8, 1, \"Draw\"),\n",
        "    (6, 10, \"Draw\"),\n",
        "    (1, 1, \"Villain Wins\"),\n",
        "    (8, 3, \"Draw\"),\n",
        "    (6, 3, \"Villain Wins\"),\n",
        "    (4, 8, \"Villain Wins\"),\n",
        "    (3, 4, \"Hero Win\"),\n",
        "    (8, 1, \"Draw\"),\n",
        "    (4, 9, \"Draw\"),\n",
        "    (3, 9, \"Draw\"),\n",
        "    (8, 9, \"Villain Wins\"),\n",
        "    (2, 5, \"Draw\"),\n",
        "    (3, 7, \"Draw\"),\n",
        "    (10, 3, \"Draw\"),\n",
        "    (3, 8, \"Draw\"),\n",
        "    (3, 5, \"Hero Win\"),\n",
        "    (5, 5, \"Hero Win\")\n",
        " ]\n",
        "cursor.executemany('''\n",
        "    INSERT INTO battles (HeroID, VillainID, Outcome)\n",
        "    VALUES (?, ?, ?);\n",
        "''', battles_data)\n",
        "conn.commit()\n",
        "print(\"Inserted battles data successfully.\")"
      ],
      "metadata": {
        "colab": {
          "base_uri": "https://localhost:8080/"
        },
        "id": "_OIYWudBx5j0",
        "outputId": "25a1f564-c4ff-4af3-fa02-ed5892585ba9"
      },
      "execution_count": 4,
      "outputs": [
        {
          "output_type": "stream",
          "name": "stdout",
          "text": [
            "Inserted battles data successfully.\n"
          ]
        }
      ]
    },
    {
      "cell_type": "code",
      "source": [
        "# Queries\n",
        "cursor.execute(\"SELECT Name, Power FROM heroes;\"),\n",
        "rows = cursor.fetchall()\n",
        "for row in rows:\n",
        "    print(row)\n",
        "cursor.execute(\"SELECT * FROM battles WHERE Outcome = 'Hero Win';\"),\n",
        "rows = cursor.fetchall()\n",
        "for row in rows:\n",
        "    print(row)\n",
        "cursor.execute(\"SELECT Name, EvilPlan FROM villains;\"),\n",
        "rows = cursor.fetchall()\n",
        "for row in rows:\n",
        "    print(row)\n",
        "cursor.execute(\"\"\"\n",
        "      SELECT h.Name, COUNT(b.BattleID) AS BattleCount\n",
        "      FROM battles b\n",
        "      JOIN heroes h ON b.HeroID = h.HeroID\n",
        "      GROUP BY h.Name\n",
        "      ORDER BY BattleCount DESC;\n",
        "\"\"\")\n",
        "rows = cursor.fetchall()\n",
        "for row in rows:\n",
        "    print(row)\n",
        "#Superheros without sidekicks\n",
        "cursor.execute(\"\"\"\n",
        "      SELECT Name\n",
        "      FROM heroes\n",
        "      WHERE HeroID NOT IN (SELECT HeroID FROM sidekicks);\n",
        "\"\"\")\n",
        "rows = cursor.fetchall()\n",
        "print (\"Superheros without sidekicks:\")\n",
        "for row in rows:\n",
        "  print(row)\n"
      ],
      "metadata": {
        "colab": {
          "base_uri": "https://localhost:8080/"
        },
        "id": "Z17venDXx9SR",
        "outputId": "84c3957b-8e2d-45bc-a5e8-2a0fe02868b2"
      },
      "execution_count": 5,
      "outputs": [
        {
          "output_type": "stream",
          "name": "stdout",
          "text": [
            "('Spider-Man', 'Super Strength')\n",
            "('Iron Man', 'Martial Arts')\n",
            "('Batman', 'Martial Arts')\n",
            "('Superman', 'Super Strength')\n",
            "('Thor', 'Thunder God')\n",
            "('Wonder Woman', 'Amazonian Strength')\n",
            "('Black Panther', 'Enhanced Agility')\n",
            "('The Flash', 'Super Speed')\n",
            "('Hulk', 'Super Strength')\n",
            "('Doctor Strange', 'Mystic Arts')\n",
            "(2, 9, 3, 'Hero Win')\n",
            "(5, 1, 7, 'Hero Win')\n",
            "(7, 9, 8, 'Hero Win')\n",
            "(8, 3, 2, 'Hero Win')\n",
            "(9, 7, 5, 'Hero Win')\n",
            "(13, 8, 9, 'Hero Win')\n",
            "(20, 3, 4, 'Hero Win')\n",
            "(29, 3, 5, 'Hero Win')\n",
            "(30, 5, 5, 'Hero Win')\n",
            "('Green Goblin', 'Terrorize New York')\n",
            "('Thanos', 'Collect all Infinity Stones')\n",
            "('Joker', 'Spread chaos in Gotham')\n",
            "('Lex Luthor', 'Defeat Superman')\n",
            "('Loki', 'Trick humanity into worshipping him')\n",
            "('Ultron', 'AI world domination')\n",
            "('Darkseid', 'Control the universe')\n",
            "('Venom', 'Consume Spider-Man')\n",
            "('Magneto', 'Mutant supremacy')\n",
            "('Red Skull', 'Revive Hydra')\n",
            "('Batman', 7)\n",
            "('The Flash', 6)\n",
            "('Spider-Man', 4)\n",
            "('Iron Man', 3)\n",
            "('Wonder Woman', 2)\n",
            "('Thor', 2)\n",
            "('Superman', 2)\n",
            "('Hulk', 2)\n",
            "('Doctor Strange', 1)\n",
            "('Black Panther', 1)\n",
            "Superheros without sidekicks:\n",
            "('Iron Man',)\n",
            "('Superman',)\n",
            "('Wonder Woman',)\n",
            "('The Flash',)\n",
            "('Doctor Strange',)\n"
          ]
        }
      ]
    },
    {
      "cell_type": "code",
      "source": [],
      "metadata": {
        "id": "DF7HtPPcyBAE"
      },
      "execution_count": null,
      "outputs": []
    }
  ]
}
