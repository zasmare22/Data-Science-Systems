{
  "nbformat": 4,
  "nbformat_minor": 0,
  "metadata": {
    "colab": {
      "provenance": []
    },
    "kernelspec": {
      "name": "python3",
      "display_name": "Python 3"
    },
    "language_info": {
      "name": "python"
    }
  },
  "cells": [
    {
      "cell_type": "code",
      "source": [
        "import requests\n",
        "import pandas as pd\n",
        "\n",
        "API_KEY = \"\"\n",
        "BASE_URL = \"https://yfapi.net\"\n",
        "\n",
        "def get_basic_stock_data(symbols):\n",
        "    \"\"\"Fetch basic stock data (Task 1)\"\"\"\n",
        "    endpoint = f\"{BASE_URL}/v6/finance/quote\"\n",
        "    headers = {'x-api-key': API_KEY}\n",
        "\n",
        "    response = requests.get(endpoint, headers=headers, params={\"symbols\": \",\".join(symbols)})\n",
        "\n",
        "    if response.status_code == 200:\n",
        "        result = response.json()\n",
        "        if 'quoteResponse' in result and 'result' in result['quoteResponse']:\n",
        "            stocks = []\n",
        "            for stock in result['quoteResponse']['result']:\n",
        "                stocks.append({\n",
        "                    \"Stock Ticker\": stock.get('symbol', 'N/A'),\n",
        "                    \"Company Name\": stock.get('longName', 'N/A'),\n",
        "                    \"Current Market Price\": format_currency(stock.get('regularMarketPrice', 'N/A'))\n",
        "                })\n",
        "            return stocks\n",
        "    print(f\"Error fetching data: {response.status_code}\")\n",
        "    return []\n",
        "\n",
        "def get_additional_metrics(symbols):\n",
        "    \"\"\"Fetch additional stock data (Task 2.1) - 52 Week High, 52 Week Low, ROA\"\"\"\n",
        "    endpoint = f\"{BASE_URL}/v11/finance/quoteSummary/\"\n",
        "    headers = {'x-api-key': API_KEY}\n",
        "\n",
        "    metrics = []\n",
        "    for symbol in symbols:\n",
        "        response = requests.get(f\"{endpoint}{symbol}\", headers=headers, params={\"modules\": \"summaryDetail,financialData\"})\n",
        "\n",
        "        if response.status_code == 200:\n",
        "            try:\n",
        "                result = response.json()\n",
        "                if 'quoteSummary' in result and result['quoteSummary']['result']:\n",
        "                    financial_data = result['quoteSummary']['result'][0]\n",
        "                    metrics.append({\n",
        "                        'Symbol': symbol,\n",
        "                        '52 Week High': financial_data['summaryDetail'].get('fiftyTwoWeekHigh', 'N/A'),\n",
        "                        '52 Week Low': financial_data['summaryDetail'].get('fiftyTwoWeekLow', 'N/A'),\n",
        "                        'ROA': round(financial_data['financialData'].get('returnOnAssets', 'N/A'), 4) if isinstance(financial_data['financialData'].get('returnOnAssets'), float) else 'N/A'\n",
        "                    })\n",
        "                else:\n",
        "                    print(f\"⚠️ No financial data found for {symbol}\")\n",
        "            except (KeyError, TypeError) as e:\n",
        "                print(f\" Error processing data for {symbol}: {e}\")\n",
        "        else:\n",
        "            print(f\" Error fetching metrics for {symbol}: {response.status_code}\")\n",
        "\n",
        "\n",
        "    return pd.DataFrame(metrics) if metrics else pd.DataFrame()\n",
        "\n",
        "def format_currency(value):\n",
        "    \"\"\"Format numeric values as currency\"\"\"\n",
        "    if isinstance(value, (int, float)):\n",
        "        return f\"${value:,.2f}\"\n",
        "    return value\n",
        "\n",
        "def main():\n",
        "    # Task 1:\n",
        "    symbols = input(\"Enter stock symbols (comma-separated): \").upper().split(',')\n",
        "    basic_data = get_basic_stock_data(symbols)\n",
        "\n",
        "    print(\"\\nBasic Stock Data:\")\n",
        "    for stock in basic_data:\n",
        "        print(f\"{stock['Stock Ticker']} | {stock['Company Name']} | {stock['Current Market Price']}\")\n",
        "\n",
        "    # Task 2.1:\n",
        "    print(\"\\nAdditional Metrics (52w High, 52w Low, ROA):\")\n",
        "    metrics_df = get_additional_metrics(symbols)\n",
        "    print(metrics_df.to_string(index=False))\n",
        "\n",
        "if __name__ == \"__main__\":\n",
        "    main()"
      ],
      "metadata": {
        "colab": {
          "base_uri": "https://localhost:8080/"
        },
        "id": "6MYi2lCT4skQ",
        "outputId": "bae931b8-f329-46cf-e1b1-f54ccd1a0ea8"
      },
      "execution_count": 24,
      "outputs": [
        {
          "output_type": "stream",
          "name": "stdout",
          "text": [
            "Enter stock symbols (comma-separated): AAPL,MSFT\n",
            "\n",
            "Basic Stock Data:\n",
            "AAPL | Apple Inc. | $241.84\n",
            "MSFT | Microsoft Corporation | $396.99\n",
            "\n",
            "Additional Metrics (52w High, 52w Low, ROA):\n",
            "Symbol                     52 Week High                      52 Week Low ROA\n",
            "  AAPL  {'raw': 260.1, 'fmt': '260.10'} {'raw': 164.08, 'fmt': '164.08'} N/A\n",
            "  MSFT {'raw': 468.35, 'fmt': '468.35'} {'raw': 385.58, 'fmt': '385.58'} N/A\n"
          ]
        }
      ]
    }
  ]
}